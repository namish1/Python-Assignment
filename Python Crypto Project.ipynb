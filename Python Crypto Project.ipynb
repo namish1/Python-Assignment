{
 "cells": [
  {
   "cell_type": "markdown",
   "metadata": {},
   "source": [
    "Do the project - Develop a cryptography app in python and Upload it in"
   ]
  },
  {
   "cell_type": "code",
   "execution_count": 1,
   "metadata": {},
   "outputs": [
    {
     "name": "stdout",
     "output_type": "stream",
     "text": [
      "Requirement already satisfied: cryptography in c:\\programdata\\anaconda3\\lib\\site-packages (2.9.2)\n",
      "Requirement already satisfied: six>=1.4.1 in c:\\programdata\\anaconda3\\lib\\site-packages (from cryptography) (1.15.0)\n",
      "Requirement already satisfied: cffi!=1.11.3,>=1.8 in c:\\programdata\\anaconda3\\lib\\site-packages (from cryptography) (1.14.0)\n",
      "Requirement already satisfied: pycparser in c:\\programdata\\anaconda3\\lib\\site-packages (from cffi!=1.11.3,>=1.8->cryptography) (2.20)\n"
     ]
    }
   ],
   "source": [
    "!pip install cryptography"
   ]
  },
  {
   "cell_type": "code",
   "execution_count": 2,
   "metadata": {},
   "outputs": [],
   "source": [
    "from cryptography.fernet import Fernet"
   ]
  },
  {
   "cell_type": "code",
   "execution_count": 3,
   "metadata": {},
   "outputs": [],
   "source": [
    "def genratePassKey():\n",
    "    key = Fernet.generate_key()\n",
    "    print(key)\n",
    "    print(type(key))\n",
    "    abc = open(\"PasswordKey.key\",'wb')\n",
    "    abc.write(key)\n",
    "    abc.close()"
   ]
  },
  {
   "cell_type": "code",
   "execution_count": 4,
   "metadata": {},
   "outputs": [
    {
     "name": "stdout",
     "output_type": "stream",
     "text": [
      "b'DWqZmFiprCfPctiCa37uOWTYVJqlSGBsylYtaFCE_oY='\n",
      "<class 'bytes'>\n"
     ]
    }
   ],
   "source": [
    "genratePassKey()"
   ]
  },
  {
   "cell_type": "code",
   "execution_count": 5,
   "metadata": {},
   "outputs": [],
   "source": [
    "def getMyKey():\n",
    "    abc = open(\"PasswordKey.key\",'rb')\n",
    "    return abc.read()"
   ]
  },
  {
   "cell_type": "code",
   "execution_count": 6,
   "metadata": {},
   "outputs": [
    {
     "data": {
      "text/plain": [
       "b'DWqZmFiprCfPctiCa37uOWTYVJqlSGBsylYtaFCE_oY='"
      ]
     },
     "execution_count": 6,
     "metadata": {},
     "output_type": "execute_result"
    }
   ],
   "source": [
    "getMyKey()"
   ]
  },
  {
   "cell_type": "code",
   "execution_count": 7,
   "metadata": {},
   "outputs": [],
   "source": [
    "def getContentFromUser():\n",
    "    return input(\"Enter the Content you want to Encrypt in your python Script\")"
   ]
  },
  {
   "cell_type": "code",
   "execution_count": 8,
   "metadata": {},
   "outputs": [
    {
     "name": "stdout",
     "output_type": "stream",
     "text": [
      "Enter the Content you want to Encrypt in your python ScriptHEY I LOVE PUNE\n"
     ]
    },
    {
     "data": {
      "text/plain": [
       "'HEY I LOVE PUNE'"
      ]
     },
     "execution_count": 8,
     "metadata": {},
     "output_type": "execute_result"
    }
   ],
   "source": [
    "getContentFromUser()"
   ]
  },
  {
   "cell_type": "code",
   "execution_count": 10,
   "metadata": {},
   "outputs": [],
   "source": [
    "def encryptMessage(message_normal):\n",
    "    key = getMyKey()\n",
    "    k = Fernet(key)\n",
    "    encrypted_Message = k.encrypt(message_normal)\n",
    "    return encrypted_Message"
   ]
  },
  {
   "cell_type": "code",
   "execution_count": 11,
   "metadata": {},
   "outputs": [
    {
     "data": {
      "text/plain": [
       "b'gAAAAABf3PVVtKEzMYInmNpg9RBNuk288Qr2KXqENAsfbuB3rKwZXhvDDLtHvYWp-DrOij6wB39J84tcRturS7se47L3kpMZX1GcK0bPKLsBuCpvnQXeVWyW085-pWUioHHmQwJsM9lO'"
      ]
     },
     "execution_count": 11,
     "metadata": {},
     "output_type": "execute_result"
    }
   ],
   "source": [
    "encryptMessage(b\" HEY THIS IS MY CREDIT CARD PIN NUMBER 734451\")"
   ]
  },
  {
   "cell_type": "code",
   "execution_count": 12,
   "metadata": {},
   "outputs": [],
   "source": [
    "def decryptMessage(message_secret):\n",
    "    key = getMyKey()\n",
    "    k = Fernet(key)\n",
    "    decrypted_Message = k.decrypt(message_secret)\n",
    "    return decrypted_Message"
   ]
  },
  {
   "cell_type": "code",
   "execution_count": 13,
   "metadata": {},
   "outputs": [
    {
     "data": {
      "text/plain": [
       "b' HEY THIS IS MY CREDIT CARD PIN NUMBER 734451'"
      ]
     },
     "execution_count": 13,
     "metadata": {},
     "output_type": "execute_result"
    }
   ],
   "source": [
    "decryptMessage(b'gAAAAABf3PVVtKEzMYInmNpg9RBNuk288Qr2KXqENAsfbuB3rKwZXhvDDLtHvYWp-DrOij6wB39J84tcRturS7se47L3kpMZX1GcK0bPKLsBuCpvnQXeVWyW085-pWUioHHmQwJsM9lO')"
   ]
  },
  {
   "cell_type": "code",
   "execution_count": null,
   "metadata": {},
   "outputs": [],
   "source": []
  }
 ],
 "metadata": {
  "kernelspec": {
   "display_name": "Python 3",
   "language": "python",
   "name": "python3"
  },
  "language_info": {
   "codemirror_mode": {
    "name": "ipython",
    "version": 3
   },
   "file_extension": ".py",
   "mimetype": "text/x-python",
   "name": "python",
   "nbconvert_exporter": "python",
   "pygments_lexer": "ipython3",
   "version": "3.8.3"
  }
 },
 "nbformat": 4,
 "nbformat_minor": 4
}
